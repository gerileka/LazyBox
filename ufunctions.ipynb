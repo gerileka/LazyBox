{
 "cells": [
  {
   "cell_type": "code",
   "execution_count": 1,
   "source": [
    "import yfinance as yf\r\n",
    "from datetime import date\r\n",
    "import pandas as pd\r\n",
    "\r\n",
    "\"\"\"\r\n",
    "If yfinance doesn't work run this on anacaonda prompt\r\n",
    "pip install yfinance --upgrade --no-cache-dir\r\n",
    "\"\"\""
   ],
   "outputs": [],
   "metadata": {
    "ExecuteTime": {
     "end_time": "2021-05-23T21:07:57.507151Z",
     "start_time": "2021-05-23T21:07:55.603942Z"
    }
   }
  },
  {
   "cell_type": "code",
   "execution_count": 2,
   "source": [
    "def GetQuote(ticker=\"GME\",start = \"2018-01-01\" ,end=str(date.today())):\r\n",
    "    \"\"\"\r\n",
    "    \"\"\"\r\n",
    "    if not isinstance(ticker,str):\r\n",
    "        raise Exception('String input expected')\r\n",
    "    if not isinstance(start,str):\r\n",
    "        raise Exception('String input expected')\r\n",
    "    if not isinstance(end,str):\r\n",
    "        raise Exception('String input expected')\r\n",
    "        \r\n",
    "    df = yf.download(ticker, start, end)\r\n",
    "    \r\n",
    "    return df"
   ],
   "outputs": [],
   "metadata": {
    "ExecuteTime": {
     "end_time": "2021-05-23T21:07:57.523005Z",
     "start_time": "2021-05-23T21:07:57.507151Z"
    }
   }
  },
  {
   "cell_type": "code",
   "execution_count": 3,
   "source": [
    "def RelativeStrengthIndex(data, num=14):\r\n",
    "    \r\n",
    "    \"\"\"\r\n",
    "    \"\"\"\r\n",
    "    \r\n",
    "    if not isinstance(data,pd.core.frame.DataFrame):\r\n",
    "        raise Exception('DataFrame input expected')\r\n",
    "    if not isinstance(num, int):\r\n",
    "        raise Exception('Integer input expected')\r\n",
    "    if num < 7 or num > 21:\r\n",
    "        raise Exception('Unusual numeric input detected')\r\n",
    "    if (num > len(data)):\r\n",
    "        raise Exception('Insufficient data for calculation')\r\n",
    "        \r\n",
    "\r\n",
    "    data_keys=list(data.index)\r\n",
    "    data_list=list(data['Adj Close'])\r\n",
    "    \r\n",
    "    \r\n",
    "    result = {}\r\n",
    "    last_price = -1\r\n",
    "    gains_losses_list = []\r\n",
    "    for x in range(len(data_list)):\r\n",
    "        if (last_price != -1):\r\n",
    "            diff = round((data_list[x] - last_price), 2)\r\n",
    "            \r\n",
    "            if (diff > 0):\r\n",
    "                gains_losses = [ data_list[x], diff, 0 ]\r\n",
    "            elif (diff < 0):\r\n",
    "                gains_losses = [ data_list[x], 0, abs(diff) ]\r\n",
    "            else:\r\n",
    "                gains_losses = [ data_list[x], 0, 0 ]\r\n",
    "            \r\n",
    "            gains_losses_list.append(gains_losses)\r\n",
    "        sum_gains = 0\r\n",
    "        sum_losses = 0\r\n",
    "        avg_gains = 0\r\n",
    "        avg_losses = 0 \r\n",
    "        if (x == num):\r\n",
    "            series = gains_losses_list[-num::]\r\n",
    "        \r\n",
    "            for y in series:\r\n",
    "                sum_gains += y[1]\r\n",
    "                sum_losses += y[2]\r\n",
    "            avg_gains = sum_gains / num\r\n",
    "            avg_losses = sum_losses / num\r\n",
    "            rs = avg_gains / avg_losses\r\n",
    "            rsi = 100 - (100 / (1 + rs))\r\n",
    "            last_gain_avg = avg_gains\r\n",
    "            last_loss_avg = avg_losses\r\n",
    "            result[data_keys[x]] = round(rsi, 2)\r\n",
    "        if (x > num):\r\n",
    "            current_list = gains_losses_list[-1::]\r\n",
    "            current_gain = current_list[0][1]\r\n",
    "            current_loss = current_list[0][2]\r\n",
    "            current_gains_avg = (last_gain_avg * (num - 1) + current_gain) / num\r\n",
    "            current_losses_avg = (last_loss_avg * (num - 1) + current_loss) / num\r\n",
    "            rs = current_gains_avg / current_losses_avg\r\n",
    "            rsi = 100 - (100 / (1 + rs))\r\n",
    "            last_gain_avg = current_gains_avg\r\n",
    "            last_loss_avg = current_losses_avg\r\n",
    "            result[data_keys[x]] = round(rsi, 2)    \r\n",
    "      \r\n",
    "        last_price = data_list[x]\r\n",
    "    \r\n",
    "    result = pd.DataFrame(result.items(), columns=['Date', \"RSI\"+str(num)])\r\n",
    "    result.set_index('Date',inplace=True)\r\n",
    "        \r\n",
    "    return result"
   ],
   "outputs": [],
   "metadata": {
    "ExecuteTime": {
     "end_time": "2021-05-23T21:41:14.333124Z",
     "start_time": "2021-05-23T21:41:14.311184Z"
    }
   }
  },
  {
   "cell_type": "code",
   "execution_count": 4,
   "source": [
    "def macdIndex(data,shortSpan=12,longSpan=26,singalSpan=9):\r\n",
    "    \r\n",
    "    \"\"\"\r\n",
    "    \r\n",
    "    \"\"\"\r\n",
    "    #Calculate the MACD and Signal Line indicators\r\n",
    "    #Calculate the Short Term Exponential Moving Average\r\n",
    "    ShortEMA = data.Close.ewm(span=shortSpan, adjust=False).mean() #AKA Fast moving average\r\n",
    "    #Calculate the Long Term Exponential Moving Average\r\n",
    "    LongEMA = data.Close.ewm(span=longSpan, adjust=False).mean() #AKA Slow moving average\r\n",
    "    #Calculate the Moving Average Convergence/Divergence (MACD)\r\n",
    "    MACD = ShortEMA - LongEMA\r\n",
    "    #Calcualte the signal line (exp weighted)\r\n",
    "    signal = MACD.ewm(span=singalSpan, adjust=False).mean()\r\n",
    "    \r\n",
    "    signal = signal.to_frame()\r\n",
    "    signal.columns = ['SigMACD_'+str(shortSpan)+\"_\"+str(longSpan)+\"_\"+str(singalSpan)]\r\n",
    "    MACD = MACD.to_frame()\r\n",
    "    MACD.columns = ['MACD']\r\n",
    "    \r\n",
    "    \r\n",
    "    return signal#,MACD"
   ],
   "outputs": [],
   "metadata": {
    "ExecuteTime": {
     "end_time": "2021-05-23T21:38:00.443893Z",
     "start_time": "2021-05-23T21:38:00.432651Z"
    }
   }
  },
  {
   "cell_type": "code",
   "execution_count": 5,
   "source": [
    "df = GetQuote()\r\n",
    "RSI_TEST= RelativeStrengthIndex(df, 14)\r\n",
    "RSI_TEST.head()\r\n",
    "MACD_TEST = macdIndex(df)\r\n",
    "MACD_TEST.tail()"
   ],
   "outputs": [
    {
     "output_type": "stream",
     "name": "stdout",
     "text": [
      "[*********************100%***********************]  1 of 1 completed\n"
     ]
    },
    {
     "output_type": "execute_result",
     "data": {
      "text/html": [
       "<div>\n",
       "<style scoped>\n",
       "    .dataframe tbody tr th:only-of-type {\n",
       "        vertical-align: middle;\n",
       "    }\n",
       "\n",
       "    .dataframe tbody tr th {\n",
       "        vertical-align: top;\n",
       "    }\n",
       "\n",
       "    .dataframe thead th {\n",
       "        text-align: right;\n",
       "    }\n",
       "</style>\n",
       "<table border=\"1\" class=\"dataframe\">\n",
       "  <thead>\n",
       "    <tr style=\"text-align: right;\">\n",
       "      <th></th>\n",
       "      <th>SigMACD_12_26_9</th>\n",
       "    </tr>\n",
       "    <tr>\n",
       "      <th>Date</th>\n",
       "      <th></th>\n",
       "    </tr>\n",
       "  </thead>\n",
       "  <tbody>\n",
       "    <tr>\n",
       "      <th>2021-09-17</th>\n",
       "      <td>6.984498</td>\n",
       "    </tr>\n",
       "    <tr>\n",
       "      <th>2021-09-20</th>\n",
       "      <td>6.670756</td>\n",
       "    </tr>\n",
       "    <tr>\n",
       "      <th>2021-09-21</th>\n",
       "      <td>6.183026</td>\n",
       "    </tr>\n",
       "    <tr>\n",
       "      <th>2021-09-22</th>\n",
       "      <td>5.600751</td>\n",
       "    </tr>\n",
       "    <tr>\n",
       "      <th>2021-09-23</th>\n",
       "      <td>4.994525</td>\n",
       "    </tr>\n",
       "  </tbody>\n",
       "</table>\n",
       "</div>"
      ],
      "text/plain": [
       "            SigMACD_12_26_9\n",
       "Date                       \n",
       "2021-09-17         6.984498\n",
       "2021-09-20         6.670756\n",
       "2021-09-21         6.183026\n",
       "2021-09-22         5.600751\n",
       "2021-09-23         4.994525"
      ]
     },
     "metadata": {},
     "execution_count": 5
    }
   ],
   "metadata": {
    "ExecuteTime": {
     "end_time": "2021-05-23T21:38:42.827256Z",
     "start_time": "2021-05-23T21:38:42.816288Z"
    }
   }
  },
  {
   "cell_type": "code",
   "execution_count": null,
   "source": [],
   "outputs": [],
   "metadata": {}
  }
 ],
 "metadata": {
  "kernelspec": {
   "name": "python3",
   "display_name": "Python 3.8.5 64-bit ('base': conda)"
  },
  "language_info": {
   "codemirror_mode": {
    "name": "ipython",
    "version": 3
   },
   "file_extension": ".py",
   "mimetype": "text/x-python",
   "name": "python",
   "nbconvert_exporter": "python",
   "pygments_lexer": "ipython3",
   "version": "3.8.5"
  },
  "latex_envs": {
   "LaTeX_envs_menu_present": true,
   "autoclose": false,
   "autocomplete": true,
   "bibliofile": "biblio.bib",
   "cite_by": "apalike",
   "current_citInitial": 1,
   "eqLabelWithNumbers": true,
   "eqNumInitial": 1,
   "hotkeys": {
    "equation": "Ctrl-E",
    "itemize": "Ctrl-I"
   },
   "labels_anchors": false,
   "latex_user_defs": false,
   "report_style_numbering": false,
   "user_envs_cfg": false
  },
  "interpreter": {
   "hash": "7bb6bc44f1409d862b7132f69473af2149ce233ca55ece8461002e253e0ea4af"
  }
 },
 "nbformat": 4,
 "nbformat_minor": 4
}