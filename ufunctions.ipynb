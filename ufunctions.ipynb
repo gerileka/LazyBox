{
 "cells": [
  {
   "cell_type": "code",
   "execution_count": 1,
   "metadata": {
    "ExecuteTime": {
     "end_time": "2021-05-01T15:00:55.508501Z",
     "start_time": "2021-05-01T15:00:53.517006Z"
    }
   },
   "outputs": [],
   "source": [
    "import yfinance as yf\n",
    "from datetime import date\n",
    "import pandas as pd"
   ]
  },
  {
   "cell_type": "code",
   "execution_count": 2,
   "metadata": {
    "ExecuteTime": {
     "end_time": "2021-05-01T15:00:55.523641Z",
     "start_time": "2021-05-01T15:00:55.510463Z"
    }
   },
   "outputs": [],
   "source": [
    "def GetQuote(ticker=\"GME\",start = \"2018-01-01\" ,end=str(date.today())):\n",
    "    \"\"\"\n",
    "    \"\"\"\n",
    "    if not isinstance(ticker,str):\n",
    "        raise Exception('String input expected')\n",
    "    if not isinstance(start,str):\n",
    "        raise Exception('String input expected')\n",
    "    if not isinstance(end,str):\n",
    "        raise Exception('String input expected')\n",
    "        \n",
    "    df = yf.download(ticker, start, end)\n",
    "    \n",
    "    return df"
   ]
  },
  {
   "cell_type": "code",
   "execution_count": 3,
   "metadata": {
    "ExecuteTime": {
     "end_time": "2021-05-01T15:00:55.555551Z",
     "start_time": "2021-05-01T15:00:55.525632Z"
    }
   },
   "outputs": [],
   "source": [
    "def RelativeStrengthIndex(data, num):\n",
    "    \n",
    "    \"\"\"\n",
    "    \"\"\"\n",
    "    \n",
    "    if not isinstance(data,pd.core.frame.DataFrame):\n",
    "        raise Exception('DataFrame input expected')\n",
    "    if not isinstance(num, int):\n",
    "        raise Exception('Integer input expected')\n",
    "    if num < 7 or num > 21:\n",
    "        raise Exception('Unusual numeric input detected')\n",
    "    if (num > len(data)):\n",
    "        raise Exception('Insufficient data for calculation')\n",
    "        \n",
    "\n",
    "    data_keys=list(data.index)\n",
    "    data_list=list(data['Adj Close'])\n",
    "    \n",
    "    \n",
    "    result = {}\n",
    "    last_price = -1\n",
    "    gains_losses_list = []\n",
    "    for x in range(len(data_list)):\n",
    "        if (last_price != -1):\n",
    "            diff = round((data_list[x] - last_price), 2)\n",
    "            \n",
    "            if (diff > 0):\n",
    "                gains_losses = [ data_list[x], diff, 0 ]\n",
    "            elif (diff < 0):\n",
    "                gains_losses = [ data_list[x], 0, abs(diff) ]\n",
    "            else:\n",
    "                gains_losses = [ data_list[x], 0, 0 ]\n",
    "            \n",
    "            gains_losses_list.append(gains_losses)\n",
    "        sum_gains = 0\n",
    "        sum_losses = 0\n",
    "        avg_gains = 0\n",
    "        avg_losses = 0 \n",
    "        if (x == num):\n",
    "            series = gains_losses_list[-num::]\n",
    "        \n",
    "            for y in series:\n",
    "                sum_gains += y[1]\n",
    "                sum_losses += y[2]\n",
    "            avg_gains = sum_gains / num\n",
    "            avg_losses = sum_losses / num\n",
    "            rs = avg_gains / avg_losses\n",
    "            rsi = 100 - (100 / (1 + rs))\n",
    "            last_gain_avg = avg_gains\n",
    "            last_loss_avg = avg_losses\n",
    "            result[data_keys[x]] = round(rsi, 2)\n",
    "        if (x > num):\n",
    "            current_list = gains_losses_list[-1::]\n",
    "            current_gain = current_list[0][1]\n",
    "            current_loss = current_list[0][2]\n",
    "            current_gains_avg = (last_gain_avg * (num - 1) + current_gain) / num\n",
    "            current_losses_avg = (last_loss_avg * (num - 1) + current_loss) / num\n",
    "            rs = current_gains_avg / current_losses_avg\n",
    "            rsi = 100 - (100 / (1 + rs))\n",
    "            last_gain_avg = current_gains_avg\n",
    "            last_loss_avg = current_losses_avg\n",
    "            result[data_keys[x]] = round(rsi, 2)    \n",
    "      \n",
    "        last_price = data_list[x]\n",
    "        \n",
    "    return result"
   ]
  },
  {
   "cell_type": "code",
   "execution_count": 4,
   "metadata": {
    "ExecuteTime": {
     "end_time": "2021-05-01T15:00:55.587465Z",
     "start_time": "2021-05-01T15:00:55.560538Z"
    }
   },
   "outputs": [],
   "source": [
    "def macdIndex(data,shortSpan=12,longSpan=26,singalSpan=9):\n",
    "    \n",
    "    \"\"\"\n",
    "    \n",
    "    \"\"\"\n",
    "    #Calculate the MACD and Signal Line indicators\n",
    "    #Calculate the Short Term Exponential Moving Average\n",
    "    ShortEMA = data.Close.ewm(span=shortSpan, adjust=False).mean() #AKA Fast moving average\n",
    "    #Calculate the Long Term Exponential Moving Average\n",
    "    LongEMA = data.Close.ewm(span=longSpan, adjust=False).mean() #AKA Slow moving average\n",
    "    #Calculate the Moving Average Convergence/Divergence (MACD)\n",
    "    MACD = ShortEMA - LongEMA\n",
    "    #Calcualte the signal line (exp weighted)\n",
    "    signal = MACD.ewm(span=singalSpan, adjust=False).mean()\n",
    "    \n",
    "    return signal,MACD"
   ]
  },
  {
   "cell_type": "code",
   "execution_count": 5,
   "metadata": {
    "ExecuteTime": {
     "end_time": "2021-04-22T21:25:56.185000Z",
     "start_time": "2021-04-22T21:25:55.940978Z"
    }
   },
   "outputs": [
    {
     "name": "stdout",
     "output_type": "stream",
     "text": [
      "[*********************100%***********************]  1 of 1 downloaded\n"
     ]
    }
   ],
   "source": [
    "# df = GetQuote()\n",
    "# RelativeStrengthIndex(df, 14)\n",
    "# macdIndex(df)"
   ]
  }
 ],
 "metadata": {
  "kernelspec": {
   "display_name": "Python 3",
   "language": "python",
   "name": "python3"
  },
  "language_info": {
   "codemirror_mode": {
    "name": "ipython",
    "version": 3
   },
   "file_extension": ".py",
   "mimetype": "text/x-python",
   "name": "python",
   "nbconvert_exporter": "python",
   "pygments_lexer": "ipython3",
   "version": "3.7.3"
  },
  "latex_envs": {
   "LaTeX_envs_menu_present": true,
   "autoclose": false,
   "autocomplete": true,
   "bibliofile": "biblio.bib",
   "cite_by": "apalike",
   "current_citInitial": 1,
   "eqLabelWithNumbers": true,
   "eqNumInitial": 1,
   "hotkeys": {
    "equation": "Ctrl-E",
    "itemize": "Ctrl-I"
   },
   "labels_anchors": false,
   "latex_user_defs": false,
   "report_style_numbering": false,
   "user_envs_cfg": false
  }
 },
 "nbformat": 4,
 "nbformat_minor": 4
}
