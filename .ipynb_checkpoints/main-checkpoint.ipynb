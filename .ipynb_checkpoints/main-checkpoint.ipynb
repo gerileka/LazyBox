{
 "cells": [
  {
   "cell_type": "code",
   "execution_count": 10,
   "metadata": {
    "ExecuteTime": {
     "end_time": "2021-05-23T21:44:42.582676Z",
     "start_time": "2021-05-23T21:44:42.565723Z"
    }
   },
   "outputs": [],
   "source": [
    "from ufunctions import *\n",
    "from functools import reduce"
   ]
  },
  {
   "cell_type": "code",
   "execution_count": 2,
   "metadata": {
    "ExecuteTime": {
     "end_time": "2021-05-23T21:39:47.340037Z",
     "start_time": "2021-05-23T21:39:47.171715Z"
    }
   },
   "outputs": [
    {
     "name": "stdout",
     "output_type": "stream",
     "text": [
      "[*********************100%***********************]  1 of 1 downloaded\n"
     ]
    }
   ],
   "source": [
    "dfQuote = GetQuote(ticker='SAVE', start='2018-01-01')"
   ]
  },
  {
   "cell_type": "code",
   "execution_count": 18,
   "metadata": {
    "ExecuteTime": {
     "end_time": "2021-05-23T21:51:42.326657Z",
     "start_time": "2021-05-23T21:51:42.289791Z"
    }
   },
   "outputs": [],
   "source": [
    "df = dfQuote.copy()\n",
    "df['Adj Close'] = list(df[\"Adj Close\"].pct_change())\n",
    "df1 = RelativeStrengthIndex(dfQuote,14)\n",
    "df2 = macdIndex(dfQuote,12,26,9)\n",
    "\n",
    "# compile the list of dataframes you want to merge\n",
    "list_df = [df,df1,df2]\n",
    "df_final = pd.concat(list_df, axis=1)\n",
    "df_final.dropna(inplace=True)"
   ]
  },
  {
   "cell_type": "code",
   "execution_count": 20,
   "metadata": {
    "ExecuteTime": {
     "end_time": "2021-05-23T21:52:58.480521Z",
     "start_time": "2021-05-23T21:52:58.461623Z"
    }
   },
   "outputs": [
    {
     "data": {
      "text/html": [
       "<div>\n",
       "<style scoped>\n",
       "    .dataframe tbody tr th:only-of-type {\n",
       "        vertical-align: middle;\n",
       "    }\n",
       "\n",
       "    .dataframe tbody tr th {\n",
       "        vertical-align: top;\n",
       "    }\n",
       "\n",
       "    .dataframe thead th {\n",
       "        text-align: right;\n",
       "    }\n",
       "</style>\n",
       "<table border=\"1\" class=\"dataframe\">\n",
       "  <thead>\n",
       "    <tr style=\"text-align: right;\">\n",
       "      <th></th>\n",
       "      <th>Open</th>\n",
       "      <th>High</th>\n",
       "      <th>Low</th>\n",
       "      <th>Close</th>\n",
       "      <th>Adj Close</th>\n",
       "      <th>Volume</th>\n",
       "      <th>RSI14</th>\n",
       "      <th>SigMACD_12_26_9</th>\n",
       "    </tr>\n",
       "    <tr>\n",
       "      <th>Date</th>\n",
       "      <th></th>\n",
       "      <th></th>\n",
       "      <th></th>\n",
       "      <th></th>\n",
       "      <th></th>\n",
       "      <th></th>\n",
       "      <th></th>\n",
       "      <th></th>\n",
       "    </tr>\n",
       "  </thead>\n",
       "  <tbody>\n",
       "    <tr>\n",
       "      <th>2021-05-17</th>\n",
       "      <td>34.42</td>\n",
       "      <td>35.75</td>\n",
       "      <td>34.24</td>\n",
       "      <td>35.67</td>\n",
       "      <td>0.020017</td>\n",
       "      <td>2704000</td>\n",
       "      <td>52.10</td>\n",
       "      <td>-0.568295</td>\n",
       "    </tr>\n",
       "    <tr>\n",
       "      <th>2021-05-18</th>\n",
       "      <td>35.84</td>\n",
       "      <td>36.55</td>\n",
       "      <td>35.43</td>\n",
       "      <td>35.71</td>\n",
       "      <td>0.001121</td>\n",
       "      <td>2908200</td>\n",
       "      <td>52.28</td>\n",
       "      <td>-0.543065</td>\n",
       "    </tr>\n",
       "    <tr>\n",
       "      <th>2021-05-19</th>\n",
       "      <td>34.89</td>\n",
       "      <td>36.01</td>\n",
       "      <td>34.68</td>\n",
       "      <td>35.61</td>\n",
       "      <td>-0.002800</td>\n",
       "      <td>3294300</td>\n",
       "      <td>51.74</td>\n",
       "      <td>-0.503548</td>\n",
       "    </tr>\n",
       "    <tr>\n",
       "      <th>2021-05-20</th>\n",
       "      <td>35.79</td>\n",
       "      <td>35.83</td>\n",
       "      <td>34.63</td>\n",
       "      <td>35.15</td>\n",
       "      <td>-0.012918</td>\n",
       "      <td>2839600</td>\n",
       "      <td>49.24</td>\n",
       "      <td>-0.463338</td>\n",
       "    </tr>\n",
       "    <tr>\n",
       "      <th>2021-05-21</th>\n",
       "      <td>35.47</td>\n",
       "      <td>35.67</td>\n",
       "      <td>34.68</td>\n",
       "      <td>34.70</td>\n",
       "      <td>-0.012802</td>\n",
       "      <td>2434400</td>\n",
       "      <td>46.86</td>\n",
       "      <td>-0.430925</td>\n",
       "    </tr>\n",
       "  </tbody>\n",
       "</table>\n",
       "</div>"
      ],
      "text/plain": [
       "             Open   High    Low  Close  Adj Close   Volume  RSI14  \\\n",
       "Date                                                                \n",
       "2021-05-17  34.42  35.75  34.24  35.67   0.020017  2704000  52.10   \n",
       "2021-05-18  35.84  36.55  35.43  35.71   0.001121  2908200  52.28   \n",
       "2021-05-19  34.89  36.01  34.68  35.61  -0.002800  3294300  51.74   \n",
       "2021-05-20  35.79  35.83  34.63  35.15  -0.012918  2839600  49.24   \n",
       "2021-05-21  35.47  35.67  34.68  34.70  -0.012802  2434400  46.86   \n",
       "\n",
       "            SigMACD_12_26_9  \n",
       "Date                         \n",
       "2021-05-17        -0.568295  \n",
       "2021-05-18        -0.543065  \n",
       "2021-05-19        -0.503548  \n",
       "2021-05-20        -0.463338  \n",
       "2021-05-21        -0.430925  "
      ]
     },
     "execution_count": 20,
     "metadata": {},
     "output_type": "execute_result"
    }
   ],
   "source": [
    "df_final.tail()"
   ]
  },
  {
   "cell_type": "code",
   "execution_count": null,
   "metadata": {},
   "outputs": [],
   "source": [
    "# def addColumns(df):"
   ]
  },
  {
   "cell_type": "code",
   "execution_count": 3,
   "metadata": {
    "ExecuteTime": {
     "end_time": "2021-05-23T21:40:00.683364Z",
     "start_time": "2021-05-23T21:40:00.635481Z"
    }
   },
   "outputs": [
    {
     "data": {
      "text/html": [
       "<div>\n",
       "<style scoped>\n",
       "    .dataframe tbody tr th:only-of-type {\n",
       "        vertical-align: middle;\n",
       "    }\n",
       "\n",
       "    .dataframe tbody tr th {\n",
       "        vertical-align: top;\n",
       "    }\n",
       "\n",
       "    .dataframe thead th {\n",
       "        text-align: right;\n",
       "    }\n",
       "</style>\n",
       "<table border=\"1\" class=\"dataframe\">\n",
       "  <thead>\n",
       "    <tr style=\"text-align: right;\">\n",
       "      <th></th>\n",
       "      <th>Open</th>\n",
       "      <th>High</th>\n",
       "      <th>Low</th>\n",
       "      <th>Close</th>\n",
       "      <th>Adj Close</th>\n",
       "      <th>Volume</th>\n",
       "    </tr>\n",
       "    <tr>\n",
       "      <th>Date</th>\n",
       "      <th></th>\n",
       "      <th></th>\n",
       "      <th></th>\n",
       "      <th></th>\n",
       "      <th></th>\n",
       "      <th></th>\n",
       "    </tr>\n",
       "  </thead>\n",
       "  <tbody>\n",
       "    <tr>\n",
       "      <th>2018-01-02</th>\n",
       "      <td>44.70</td>\n",
       "      <td>45.61</td>\n",
       "      <td>44.09</td>\n",
       "      <td>45.60</td>\n",
       "      <td>45.60</td>\n",
       "      <td>899200</td>\n",
       "    </tr>\n",
       "    <tr>\n",
       "      <th>2018-01-03</th>\n",
       "      <td>45.54</td>\n",
       "      <td>45.54</td>\n",
       "      <td>43.47</td>\n",
       "      <td>44.14</td>\n",
       "      <td>44.14</td>\n",
       "      <td>1413800</td>\n",
       "    </tr>\n",
       "    <tr>\n",
       "      <th>2018-01-04</th>\n",
       "      <td>43.94</td>\n",
       "      <td>44.25</td>\n",
       "      <td>43.33</td>\n",
       "      <td>43.50</td>\n",
       "      <td>43.50</td>\n",
       "      <td>1823600</td>\n",
       "    </tr>\n",
       "    <tr>\n",
       "      <th>2018-01-05</th>\n",
       "      <td>43.75</td>\n",
       "      <td>43.89</td>\n",
       "      <td>43.45</td>\n",
       "      <td>43.63</td>\n",
       "      <td>43.63</td>\n",
       "      <td>680700</td>\n",
       "    </tr>\n",
       "    <tr>\n",
       "      <th>2018-01-08</th>\n",
       "      <td>43.75</td>\n",
       "      <td>43.75</td>\n",
       "      <td>42.89</td>\n",
       "      <td>43.23</td>\n",
       "      <td>43.23</td>\n",
       "      <td>1059900</td>\n",
       "    </tr>\n",
       "  </tbody>\n",
       "</table>\n",
       "</div>"
      ],
      "text/plain": [
       "             Open   High    Low  Close  Adj Close   Volume\n",
       "Date                                                      \n",
       "2018-01-02  44.70  45.61  44.09  45.60      45.60   899200\n",
       "2018-01-03  45.54  45.54  43.47  44.14      44.14  1413800\n",
       "2018-01-04  43.94  44.25  43.33  43.50      43.50  1823600\n",
       "2018-01-05  43.75  43.89  43.45  43.63      43.63   680700\n",
       "2018-01-08  43.75  43.75  42.89  43.23      43.23  1059900"
      ]
     },
     "execution_count": 3,
     "metadata": {},
     "output_type": "execute_result"
    }
   ],
   "source": [
    "dfQuote.head()"
   ]
  },
  {
   "cell_type": "code",
   "execution_count": null,
   "metadata": {},
   "outputs": [],
   "source": []
  }
 ],
 "metadata": {
  "kernelspec": {
   "display_name": "Python 3",
   "language": "python",
   "name": "python3"
  },
  "language_info": {
   "codemirror_mode": {
    "name": "ipython",
    "version": 3
   },
   "file_extension": ".py",
   "mimetype": "text/x-python",
   "name": "python",
   "nbconvert_exporter": "python",
   "pygments_lexer": "ipython3",
   "version": "3.7.3"
  },
  "latex_envs": {
   "LaTeX_envs_menu_present": true,
   "autoclose": false,
   "autocomplete": true,
   "bibliofile": "biblio.bib",
   "cite_by": "apalike",
   "current_citInitial": 1,
   "eqLabelWithNumbers": true,
   "eqNumInitial": 1,
   "hotkeys": {
    "equation": "Ctrl-E",
    "itemize": "Ctrl-I"
   },
   "labels_anchors": false,
   "latex_user_defs": false,
   "report_style_numbering": false,
   "user_envs_cfg": false
  }
 },
 "nbformat": 4,
 "nbformat_minor": 2
}
