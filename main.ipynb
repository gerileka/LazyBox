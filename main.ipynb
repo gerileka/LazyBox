{
 "cells": [
  {
   "cell_type": "code",
   "execution_count": 7,
   "source": [
    "from ufunctions import *\r\n",
    "from functools import reduce\r\n",
    "from pandas.tseries.offsets import *\r\n"
   ],
   "outputs": [],
   "metadata": {}
  },
  {
   "cell_type": "code",
   "execution_count": 2,
   "source": [
    "dfQuote = GetQuote(ticker='SAVE', start='2018-01-01')"
   ],
   "outputs": [
    {
     "output_type": "stream",
     "name": "stdout",
     "text": [
      "[*********************100%***********************]  1 of 1 completed\n"
     ]
    }
   ],
   "metadata": {
    "ExecuteTime": {
     "end_time": "2021-05-23T21:39:47.340037Z",
     "start_time": "2021-05-23T21:39:47.171715Z"
    }
   }
  },
  {
   "cell_type": "code",
   "execution_count": 3,
   "source": [
    "df = dfQuote.copy()\r\n",
    "df['Adj Close'] = list(df[\"Adj Close\"].pct_change())\r\n",
    "df1 = RelativeStrengthIndex(dfQuote,14)\r\n",
    "df2 = macdIndex(dfQuote,12,26,9)\r\n",
    "\r\n",
    "# compile the list of dataframes you want to merge\r\n",
    "list_df = [df,df1,df2]\r\n",
    "df_final = pd.concat(list_df, axis=1)\r\n",
    "df_final.dropna(inplace=True)\r\n",
    "df_final.rename(columns={'Close': 'Target'}, inplace=True)\r\n",
    "df_final.tail()"
   ],
   "outputs": [
    {
     "output_type": "execute_result",
     "data": {
      "text/html": [
       "<div>\n",
       "<style scoped>\n",
       "    .dataframe tbody tr th:only-of-type {\n",
       "        vertical-align: middle;\n",
       "    }\n",
       "\n",
       "    .dataframe tbody tr th {\n",
       "        vertical-align: top;\n",
       "    }\n",
       "\n",
       "    .dataframe thead th {\n",
       "        text-align: right;\n",
       "    }\n",
       "</style>\n",
       "<table border=\"1\" class=\"dataframe\">\n",
       "  <thead>\n",
       "    <tr style=\"text-align: right;\">\n",
       "      <th></th>\n",
       "      <th>Open</th>\n",
       "      <th>High</th>\n",
       "      <th>Low</th>\n",
       "      <th>Target</th>\n",
       "      <th>Adj Close</th>\n",
       "      <th>Volume</th>\n",
       "      <th>RSI14</th>\n",
       "      <th>SigMACD_12_26_9</th>\n",
       "    </tr>\n",
       "    <tr>\n",
       "      <th>Date</th>\n",
       "      <th></th>\n",
       "      <th></th>\n",
       "      <th></th>\n",
       "      <th></th>\n",
       "      <th></th>\n",
       "      <th></th>\n",
       "      <th></th>\n",
       "      <th></th>\n",
       "    </tr>\n",
       "  </thead>\n",
       "  <tbody>\n",
       "    <tr>\n",
       "      <th>2021-09-17</th>\n",
       "      <td>24.969999</td>\n",
       "      <td>25.549999</td>\n",
       "      <td>24.610001</td>\n",
       "      <td>25.010000</td>\n",
       "      <td>0.009689</td>\n",
       "      <td>3823300</td>\n",
       "      <td>49.49</td>\n",
       "      <td>-0.499258</td>\n",
       "    </tr>\n",
       "    <tr>\n",
       "      <th>2021-09-20</th>\n",
       "      <td>24.629999</td>\n",
       "      <td>25.070000</td>\n",
       "      <td>24.129999</td>\n",
       "      <td>25.059999</td>\n",
       "      <td>0.001999</td>\n",
       "      <td>4735800</td>\n",
       "      <td>49.92</td>\n",
       "      <td>-0.452311</td>\n",
       "    </tr>\n",
       "    <tr>\n",
       "      <th>2021-09-21</th>\n",
       "      <td>25.219999</td>\n",
       "      <td>25.540001</td>\n",
       "      <td>24.379999</td>\n",
       "      <td>24.639999</td>\n",
       "      <td>-0.016760</td>\n",
       "      <td>3848100</td>\n",
       "      <td>46.39</td>\n",
       "      <td>-0.412828</td>\n",
       "    </tr>\n",
       "    <tr>\n",
       "      <th>2021-09-22</th>\n",
       "      <td>24.780001</td>\n",
       "      <td>25.680000</td>\n",
       "      <td>24.700001</td>\n",
       "      <td>25.260000</td>\n",
       "      <td>0.025162</td>\n",
       "      <td>4030600</td>\n",
       "      <td>51.81</td>\n",
       "      <td>-0.369260</td>\n",
       "    </tr>\n",
       "    <tr>\n",
       "      <th>2021-09-23</th>\n",
       "      <td>25.500000</td>\n",
       "      <td>26.620001</td>\n",
       "      <td>25.379999</td>\n",
       "      <td>26.299999</td>\n",
       "      <td>0.041172</td>\n",
       "      <td>4721800</td>\n",
       "      <td>59.25</td>\n",
       "      <td>-0.307982</td>\n",
       "    </tr>\n",
       "  </tbody>\n",
       "</table>\n",
       "</div>"
      ],
      "text/plain": [
       "                 Open       High        Low     Target  Adj Close   Volume  \\\n",
       "Date                                                                         \n",
       "2021-09-17  24.969999  25.549999  24.610001  25.010000   0.009689  3823300   \n",
       "2021-09-20  24.629999  25.070000  24.129999  25.059999   0.001999  4735800   \n",
       "2021-09-21  25.219999  25.540001  24.379999  24.639999  -0.016760  3848100   \n",
       "2021-09-22  24.780001  25.680000  24.700001  25.260000   0.025162  4030600   \n",
       "2021-09-23  25.500000  26.620001  25.379999  26.299999   0.041172  4721800   \n",
       "\n",
       "            RSI14  SigMACD_12_26_9  \n",
       "Date                                \n",
       "2021-09-17  49.49        -0.499258  \n",
       "2021-09-20  49.92        -0.452311  \n",
       "2021-09-21  46.39        -0.412828  \n",
       "2021-09-22  51.81        -0.369260  \n",
       "2021-09-23  59.25        -0.307982  "
      ]
     },
     "metadata": {},
     "execution_count": 3
    }
   ],
   "metadata": {
    "ExecuteTime": {
     "end_time": "2021-05-23T21:51:42.326657Z",
     "start_time": "2021-05-23T21:51:42.289791Z"
    }
   }
  },
  {
   "cell_type": "code",
   "execution_count": 21,
   "source": [
    "df_original = df_final.copy()\r\n",
    "locShift = 3\r\n",
    "df_original.reset_index(inplace=True)\r\n",
    "df_original = df_original.append(pd.DataFrame({'Date': pd.date_range(start=df_original.Date.iloc[-1], periods=locShift, freq=BDay(), closed='left')}))\r\n",
    "df_original.set_index(['Date'],inplace=True)\r\n",
    "df_original.loc[:, df_original.columns != 'Target'] = df_original.loc[:, df_original.columns != 'Target'].shift(locShift)\r\n",
    "df_target = df_original[['Target']]\r\n",
    "df_features = df_original.loc[:, df_original.columns != 'Target']\r\n",
    "\r\n",
    "\r\n",
    "df_back_test = pd.merge(df1, df2, left_index=True, right_index=True)"
   ],
   "outputs": [],
   "metadata": {
    "ExecuteTime": {
     "end_time": "2021-05-23T21:52:58.480521Z",
     "start_time": "2021-05-23T21:52:58.461623Z"
    }
   }
  },
  {
   "cell_type": "code",
   "execution_count": 23,
   "source": [
    "print(df_target.tail())\r\n",
    "print(df_features.tail())"
   ],
   "outputs": [
    {
     "output_type": "stream",
     "name": "stdout",
     "text": [
      "               Target\n",
      "Date                 \n",
      "2021-09-22  25.260000\n",
      "2021-09-23  26.299999\n",
      "2021-09-23        NaN\n",
      "2021-09-24        NaN\n",
      "2021-09-27        NaN\n",
      "                 Open       High        Low  Adj Close     Volume  RSI14  \\\n",
      "Date                                                                       \n",
      "2021-09-22  24.969999  25.549999  24.610001   0.009689  3823300.0  49.49   \n",
      "2021-09-23  24.629999  25.070000  24.129999   0.001999  4735800.0  49.92   \n",
      "2021-09-23  25.219999  25.540001  24.379999  -0.016760  3848100.0  46.39   \n",
      "2021-09-24  24.780001  25.680000  24.700001   0.025162  4030600.0  51.81   \n",
      "2021-09-27  25.500000  26.620001  25.379999   0.041172  4721800.0  59.25   \n",
      "\n",
      "            SigMACD_12_26_9  \n",
      "Date                         \n",
      "2021-09-22        -0.499258  \n",
      "2021-09-23        -0.452311  \n",
      "2021-09-23        -0.412828  \n",
      "2021-09-24        -0.369260  \n",
      "2021-09-27        -0.307982  \n"
     ]
    }
   ],
   "metadata": {}
  },
  {
   "cell_type": "code",
   "execution_count": 20,
   "source": [
    "df_original.tail()"
   ],
   "outputs": [
    {
     "output_type": "execute_result",
     "data": {
      "text/html": [
       "<div>\n",
       "<style scoped>\n",
       "    .dataframe tbody tr th:only-of-type {\n",
       "        vertical-align: middle;\n",
       "    }\n",
       "\n",
       "    .dataframe tbody tr th {\n",
       "        vertical-align: top;\n",
       "    }\n",
       "\n",
       "    .dataframe thead th {\n",
       "        text-align: right;\n",
       "    }\n",
       "</style>\n",
       "<table border=\"1\" class=\"dataframe\">\n",
       "  <thead>\n",
       "    <tr style=\"text-align: right;\">\n",
       "      <th></th>\n",
       "      <th>Open</th>\n",
       "      <th>High</th>\n",
       "      <th>Low</th>\n",
       "      <th>Target</th>\n",
       "      <th>Adj Close</th>\n",
       "      <th>Volume</th>\n",
       "      <th>RSI14</th>\n",
       "      <th>SigMACD_12_26_9</th>\n",
       "    </tr>\n",
       "    <tr>\n",
       "      <th>Date</th>\n",
       "      <th></th>\n",
       "      <th></th>\n",
       "      <th></th>\n",
       "      <th></th>\n",
       "      <th></th>\n",
       "      <th></th>\n",
       "      <th></th>\n",
       "      <th></th>\n",
       "    </tr>\n",
       "  </thead>\n",
       "  <tbody>\n",
       "    <tr>\n",
       "      <th>2021-09-22</th>\n",
       "      <td>24.969999</td>\n",
       "      <td>25.549999</td>\n",
       "      <td>24.610001</td>\n",
       "      <td>25.260000</td>\n",
       "      <td>0.009689</td>\n",
       "      <td>3823300.0</td>\n",
       "      <td>49.49</td>\n",
       "      <td>-0.499258</td>\n",
       "    </tr>\n",
       "    <tr>\n",
       "      <th>2021-09-23</th>\n",
       "      <td>24.629999</td>\n",
       "      <td>25.070000</td>\n",
       "      <td>24.129999</td>\n",
       "      <td>26.299999</td>\n",
       "      <td>0.001999</td>\n",
       "      <td>4735800.0</td>\n",
       "      <td>49.92</td>\n",
       "      <td>-0.452311</td>\n",
       "    </tr>\n",
       "    <tr>\n",
       "      <th>2021-09-23</th>\n",
       "      <td>25.219999</td>\n",
       "      <td>25.540001</td>\n",
       "      <td>24.379999</td>\n",
       "      <td>NaN</td>\n",
       "      <td>-0.016760</td>\n",
       "      <td>3848100.0</td>\n",
       "      <td>46.39</td>\n",
       "      <td>-0.412828</td>\n",
       "    </tr>\n",
       "    <tr>\n",
       "      <th>2021-09-24</th>\n",
       "      <td>24.780001</td>\n",
       "      <td>25.680000</td>\n",
       "      <td>24.700001</td>\n",
       "      <td>NaN</td>\n",
       "      <td>0.025162</td>\n",
       "      <td>4030600.0</td>\n",
       "      <td>51.81</td>\n",
       "      <td>-0.369260</td>\n",
       "    </tr>\n",
       "    <tr>\n",
       "      <th>2021-09-27</th>\n",
       "      <td>25.500000</td>\n",
       "      <td>26.620001</td>\n",
       "      <td>25.379999</td>\n",
       "      <td>NaN</td>\n",
       "      <td>0.041172</td>\n",
       "      <td>4721800.0</td>\n",
       "      <td>59.25</td>\n",
       "      <td>-0.307982</td>\n",
       "    </tr>\n",
       "  </tbody>\n",
       "</table>\n",
       "</div>"
      ],
      "text/plain": [
       "                 Open       High        Low     Target  Adj Close     Volume  \\\n",
       "Date                                                                           \n",
       "2021-09-22  24.969999  25.549999  24.610001  25.260000   0.009689  3823300.0   \n",
       "2021-09-23  24.629999  25.070000  24.129999  26.299999   0.001999  4735800.0   \n",
       "2021-09-23  25.219999  25.540001  24.379999        NaN  -0.016760  3848100.0   \n",
       "2021-09-24  24.780001  25.680000  24.700001        NaN   0.025162  4030600.0   \n",
       "2021-09-27  25.500000  26.620001  25.379999        NaN   0.041172  4721800.0   \n",
       "\n",
       "            RSI14  SigMACD_12_26_9  \n",
       "Date                                \n",
       "2021-09-22  49.49        -0.499258  \n",
       "2021-09-23  49.92        -0.452311  \n",
       "2021-09-23  46.39        -0.412828  \n",
       "2021-09-24  51.81        -0.369260  \n",
       "2021-09-27  59.25        -0.307982  "
      ]
     },
     "metadata": {},
     "execution_count": 20
    }
   ],
   "metadata": {}
  },
  {
   "cell_type": "code",
   "execution_count": null,
   "source": [
    "# def splitNlag(df):"
   ],
   "outputs": [],
   "metadata": {}
  }
 ],
 "metadata": {
  "kernelspec": {
   "name": "python3",
   "display_name": "Python 3.8.5 64-bit ('base': conda)"
  },
  "language_info": {
   "codemirror_mode": {
    "name": "ipython",
    "version": 3
   },
   "file_extension": ".py",
   "mimetype": "text/x-python",
   "name": "python",
   "nbconvert_exporter": "python",
   "pygments_lexer": "ipython3",
   "version": "3.8.5"
  },
  "latex_envs": {
   "LaTeX_envs_menu_present": true,
   "autoclose": false,
   "autocomplete": true,
   "bibliofile": "biblio.bib",
   "cite_by": "apalike",
   "current_citInitial": 1,
   "eqLabelWithNumbers": true,
   "eqNumInitial": 1,
   "hotkeys": {
    "equation": "Ctrl-E",
    "itemize": "Ctrl-I"
   },
   "labels_anchors": false,
   "latex_user_defs": false,
   "report_style_numbering": false,
   "user_envs_cfg": false
  },
  "interpreter": {
   "hash": "7bb6bc44f1409d862b7132f69473af2149ce233ca55ece8461002e253e0ea4af"
  }
 },
 "nbformat": 4,
 "nbformat_minor": 2
}